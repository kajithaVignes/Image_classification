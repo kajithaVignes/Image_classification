{
  "cells": [
    {
      "cell_type": "code",
      "execution_count": 1,
      "id": "61637ac3-012b-44b6-a7da-824675ceba36",
      "metadata": {
        "id": "61637ac3-012b-44b6-a7da-824675ceba36"
      },
      "outputs": [],
      "source": [
        "from torchvision import datasets, transforms\n",
        "from torch.utils.data import Subset, DataLoader\n",
        "import torch\n",
        "import matplotlib.pyplot as plt\n",
        "import numpy as np\n",
        "import pandas as pd\n",
        "import matplotlib.pyplot as plt  # For creating static plots\n",
        "import seaborn as sns\n",
        "from sklearn.model_selection import train_test_split"
      ]
    },
    {
      "cell_type": "code",
      "execution_count": 2,
      "id": "baf75e77-6228-4648-80a7-90ee2c8f8cf3",
      "metadata": {
        "id": "baf75e77-6228-4648-80a7-90ee2c8f8cf3"
      },
      "outputs": [],
      "source": [
        "import torch\n",
        "import torch.nn as nn\n",
        "import torch.nn.functional as F"
      ]
    },
    {
      "cell_type": "code",
      "execution_count": 3,
      "id": "e66c45e4-eb4c-4f59-95e5-235287bb6fd5",
      "metadata": {
        "colab": {
          "base_uri": "https://localhost:8080/"
        },
        "id": "e66c45e4-eb4c-4f59-95e5-235287bb6fd5",
        "outputId": "44c95109-d676-4071-cfa1-738426468e02"
      },
      "outputs": [
        {
          "output_type": "stream",
          "name": "stderr",
          "text": [
            "100%|██████████| 26.4M/26.4M [00:01<00:00, 13.8MB/s]\n",
            "100%|██████████| 29.5k/29.5k [00:00<00:00, 203kB/s]\n",
            "100%|██████████| 4.42M/4.42M [00:01<00:00, 3.77MB/s]\n",
            "100%|██████████| 5.15k/5.15k [00:00<00:00, 15.0MB/s]\n"
          ]
        }
      ],
      "source": [
        "from torchvision.datasets import FashionMNIST\n",
        "dataset = FashionMNIST(root='./data', train=True, download=True)\n",
        "\n",
        "# train_df = pd.read_csv(\"mnist_fashion_train.csv\")\n",
        "# test_df = pd.read_csv( \"mnist_fashion_test.csv\")\n"
      ]
    },
    {
      "cell_type": "code",
      "execution_count": null,
      "id": "1d4b08e7-e69c-42f7-9e61-35e27aee9549",
      "metadata": {
        "id": "1d4b08e7-e69c-42f7-9e61-35e27aee9549"
      },
      "outputs": [],
      "source": [
        "##EDA"
      ]
    },
    {
      "cell_type": "code",
      "execution_count": null,
      "id": "a8bc904e-2b9b-4d65-ac53-d619d2e4e9ec",
      "metadata": {
        "id": "a8bc904e-2b9b-4d65-ac53-d619d2e4e9ec"
      },
      "outputs": [],
      "source": []
    },
    {
      "cell_type": "code",
      "execution_count": 4,
      "id": "b7a78a6c-110b-4d9c-bac1-efd79fdee6f4",
      "metadata": {
        "colab": {
          "base_uri": "https://localhost:8080/"
        },
        "id": "b7a78a6c-110b-4d9c-bac1-efd79fdee6f4",
        "outputId": "30f31e16-edca-47f9-eca9-2aa5642cb57f"
      },
      "outputs": [
        {
          "output_type": "stream",
          "name": "stdout",
          "text": [
            "{'T-shirt/top': 0, 'Trouser': 1, 'Pullover': 2, 'Dress': 3, 'Coat': 4, 'Sandal': 5, 'Shirt': 6, 'Sneaker': 7, 'Bag': 8, 'Ankle boot': 9}\n"
          ]
        }
      ],
      "source": [
        "class_to_idx = dataset.class_to_idx\n",
        "print(class_to_idx)\n",
        "idx_to_class = {v: k for k, v in class_to_idx.items()}"
      ]
    },
    {
      "cell_type": "code",
      "execution_count": null,
      "id": "9156b232-8102-4373-93f5-e464917ac32f",
      "metadata": {
        "id": "9156b232-8102-4373-93f5-e464917ac32f",
        "outputId": "60ff475d-dfee-4686-f6b3-51532519b06e"
      },
      "outputs": [
        {
          "data": {
            "text/html": [
              "<div>\n",
              "<style scoped>\n",
              "    .dataframe tbody tr th:only-of-type {\n",
              "        vertical-align: middle;\n",
              "    }\n",
              "\n",
              "    .dataframe tbody tr th {\n",
              "        vertical-align: top;\n",
              "    }\n",
              "\n",
              "    .dataframe thead th {\n",
              "        text-align: right;\n",
              "    }\n",
              "</style>\n",
              "<table border=\"1\" class=\"dataframe\">\n",
              "  <thead>\n",
              "    <tr style=\"text-align: right;\">\n",
              "      <th></th>\n",
              "      <th>label</th>\n",
              "      <th>1x1</th>\n",
              "      <th>1x2</th>\n",
              "      <th>1x3</th>\n",
              "      <th>1x4</th>\n",
              "      <th>1x5</th>\n",
              "      <th>1x6</th>\n",
              "      <th>1x7</th>\n",
              "      <th>1x8</th>\n",
              "      <th>1x9</th>\n",
              "      <th>...</th>\n",
              "      <th>28x19</th>\n",
              "      <th>28x20</th>\n",
              "      <th>28x21</th>\n",
              "      <th>28x22</th>\n",
              "      <th>28x23</th>\n",
              "      <th>28x24</th>\n",
              "      <th>28x25</th>\n",
              "      <th>28x26</th>\n",
              "      <th>28x27</th>\n",
              "      <th>28x28</th>\n",
              "    </tr>\n",
              "  </thead>\n",
              "  <tbody>\n",
              "    <tr>\n",
              "      <th>0</th>\n",
              "      <td>9</td>\n",
              "      <td>0</td>\n",
              "      <td>0</td>\n",
              "      <td>0</td>\n",
              "      <td>0</td>\n",
              "      <td>0</td>\n",
              "      <td>0</td>\n",
              "      <td>0</td>\n",
              "      <td>0</td>\n",
              "      <td>0</td>\n",
              "      <td>...</td>\n",
              "      <td>0</td>\n",
              "      <td>0</td>\n",
              "      <td>0</td>\n",
              "      <td>0</td>\n",
              "      <td>0</td>\n",
              "      <td>0</td>\n",
              "      <td>0</td>\n",
              "      <td>0</td>\n",
              "      <td>0</td>\n",
              "      <td>0</td>\n",
              "    </tr>\n",
              "    <tr>\n",
              "      <th>1</th>\n",
              "      <td>0</td>\n",
              "      <td>0</td>\n",
              "      <td>0</td>\n",
              "      <td>0</td>\n",
              "      <td>0</td>\n",
              "      <td>0</td>\n",
              "      <td>1</td>\n",
              "      <td>0</td>\n",
              "      <td>0</td>\n",
              "      <td>0</td>\n",
              "      <td>...</td>\n",
              "      <td>119</td>\n",
              "      <td>114</td>\n",
              "      <td>130</td>\n",
              "      <td>76</td>\n",
              "      <td>0</td>\n",
              "      <td>0</td>\n",
              "      <td>0</td>\n",
              "      <td>0</td>\n",
              "      <td>0</td>\n",
              "      <td>0</td>\n",
              "    </tr>\n",
              "    <tr>\n",
              "      <th>2</th>\n",
              "      <td>0</td>\n",
              "      <td>0</td>\n",
              "      <td>0</td>\n",
              "      <td>0</td>\n",
              "      <td>0</td>\n",
              "      <td>0</td>\n",
              "      <td>0</td>\n",
              "      <td>0</td>\n",
              "      <td>0</td>\n",
              "      <td>0</td>\n",
              "      <td>...</td>\n",
              "      <td>0</td>\n",
              "      <td>0</td>\n",
              "      <td>1</td>\n",
              "      <td>0</td>\n",
              "      <td>0</td>\n",
              "      <td>0</td>\n",
              "      <td>0</td>\n",
              "      <td>0</td>\n",
              "      <td>0</td>\n",
              "      <td>0</td>\n",
              "    </tr>\n",
              "    <tr>\n",
              "      <th>3</th>\n",
              "      <td>3</td>\n",
              "      <td>0</td>\n",
              "      <td>0</td>\n",
              "      <td>0</td>\n",
              "      <td>0</td>\n",
              "      <td>0</td>\n",
              "      <td>0</td>\n",
              "      <td>0</td>\n",
              "      <td>0</td>\n",
              "      <td>33</td>\n",
              "      <td>...</td>\n",
              "      <td>0</td>\n",
              "      <td>0</td>\n",
              "      <td>0</td>\n",
              "      <td>0</td>\n",
              "      <td>0</td>\n",
              "      <td>0</td>\n",
              "      <td>0</td>\n",
              "      <td>0</td>\n",
              "      <td>0</td>\n",
              "      <td>0</td>\n",
              "    </tr>\n",
              "    <tr>\n",
              "      <th>4</th>\n",
              "      <td>0</td>\n",
              "      <td>0</td>\n",
              "      <td>0</td>\n",
              "      <td>0</td>\n",
              "      <td>0</td>\n",
              "      <td>0</td>\n",
              "      <td>0</td>\n",
              "      <td>0</td>\n",
              "      <td>0</td>\n",
              "      <td>0</td>\n",
              "      <td>...</td>\n",
              "      <td>0</td>\n",
              "      <td>0</td>\n",
              "      <td>0</td>\n",
              "      <td>0</td>\n",
              "      <td>0</td>\n",
              "      <td>0</td>\n",
              "      <td>0</td>\n",
              "      <td>0</td>\n",
              "      <td>0</td>\n",
              "      <td>0</td>\n",
              "    </tr>\n",
              "  </tbody>\n",
              "</table>\n",
              "<p>5 rows × 785 columns</p>\n",
              "</div>"
            ],
            "text/plain": [
              "   label  1x1  1x2  1x3  1x4  1x5  1x6  1x7  1x8  1x9  ...  28x19  28x20  \\\n",
              "0      9    0    0    0    0    0    0    0    0    0  ...      0      0   \n",
              "1      0    0    0    0    0    0    1    0    0    0  ...    119    114   \n",
              "2      0    0    0    0    0    0    0    0    0    0  ...      0      0   \n",
              "3      3    0    0    0    0    0    0    0    0   33  ...      0      0   \n",
              "4      0    0    0    0    0    0    0    0    0    0  ...      0      0   \n",
              "\n",
              "   28x21  28x22  28x23  28x24  28x25  28x26  28x27  28x28  \n",
              "0      0      0      0      0      0      0      0      0  \n",
              "1    130     76      0      0      0      0      0      0  \n",
              "2      1      0      0      0      0      0      0      0  \n",
              "3      0      0      0      0      0      0      0      0  \n",
              "4      0      0      0      0      0      0      0      0  \n",
              "\n",
              "[5 rows x 785 columns]"
            ]
          },
          "execution_count": 4,
          "metadata": {},
          "output_type": "execute_result"
        }
      ],
      "source": [
        "train_df.head()"
      ]
    },
    {
      "cell_type": "code",
      "execution_count": null,
      "id": "3faea62c-7e08-403e-b47e-9e9f28b1aa34",
      "metadata": {
        "id": "3faea62c-7e08-403e-b47e-9e9f28b1aa34",
        "outputId": "c77f1db8-f31e-481d-fa4f-60b26c8eb395"
      },
      "outputs": [
        {
          "data": {
            "text/html": [
              "<div>\n",
              "<style scoped>\n",
              "    .dataframe tbody tr th:only-of-type {\n",
              "        vertical-align: middle;\n",
              "    }\n",
              "\n",
              "    .dataframe tbody tr th {\n",
              "        vertical-align: top;\n",
              "    }\n",
              "\n",
              "    .dataframe thead th {\n",
              "        text-align: right;\n",
              "    }\n",
              "</style>\n",
              "<table border=\"1\" class=\"dataframe\">\n",
              "  <thead>\n",
              "    <tr style=\"text-align: right;\">\n",
              "      <th></th>\n",
              "      <th>label</th>\n",
              "      <th>1x1</th>\n",
              "      <th>1x2</th>\n",
              "      <th>1x3</th>\n",
              "      <th>1x4</th>\n",
              "      <th>1x5</th>\n",
              "      <th>1x6</th>\n",
              "      <th>1x7</th>\n",
              "      <th>1x8</th>\n",
              "      <th>1x9</th>\n",
              "      <th>...</th>\n",
              "      <th>28x19</th>\n",
              "      <th>28x20</th>\n",
              "      <th>28x21</th>\n",
              "      <th>28x22</th>\n",
              "      <th>28x23</th>\n",
              "      <th>28x24</th>\n",
              "      <th>28x25</th>\n",
              "      <th>28x26</th>\n",
              "      <th>28x27</th>\n",
              "      <th>28x28</th>\n",
              "    </tr>\n",
              "  </thead>\n",
              "  <tbody>\n",
              "    <tr>\n",
              "      <th>count</th>\n",
              "      <td>60000.000000</td>\n",
              "      <td>60000.000000</td>\n",
              "      <td>60000.000000</td>\n",
              "      <td>60000.000000</td>\n",
              "      <td>60000.000000</td>\n",
              "      <td>60000.000000</td>\n",
              "      <td>60000.000000</td>\n",
              "      <td>60000.000000</td>\n",
              "      <td>60000.000000</td>\n",
              "      <td>60000.000000</td>\n",
              "      <td>...</td>\n",
              "      <td>60000.000000</td>\n",
              "      <td>60000.000000</td>\n",
              "      <td>60000.000000</td>\n",
              "      <td>60000.000000</td>\n",
              "      <td>60000.000000</td>\n",
              "      <td>60000.000000</td>\n",
              "      <td>60000.000000</td>\n",
              "      <td>60000.000000</td>\n",
              "      <td>60000.000000</td>\n",
              "      <td>60000.000000</td>\n",
              "    </tr>\n",
              "    <tr>\n",
              "      <th>mean</th>\n",
              "      <td>4.500000</td>\n",
              "      <td>0.000800</td>\n",
              "      <td>0.005783</td>\n",
              "      <td>0.030083</td>\n",
              "      <td>0.103800</td>\n",
              "      <td>0.249683</td>\n",
              "      <td>0.414717</td>\n",
              "      <td>0.821667</td>\n",
              "      <td>2.224733</td>\n",
              "      <td>5.698667</td>\n",
              "      <td>...</td>\n",
              "      <td>34.564367</td>\n",
              "      <td>23.208633</td>\n",
              "      <td>16.576250</td>\n",
              "      <td>17.831967</td>\n",
              "      <td>22.918850</td>\n",
              "      <td>17.916900</td>\n",
              "      <td>8.485717</td>\n",
              "      <td>2.706333</td>\n",
              "      <td>0.819000</td>\n",
              "      <td>0.070883</td>\n",
              "    </tr>\n",
              "    <tr>\n",
              "      <th>std</th>\n",
              "      <td>2.872305</td>\n",
              "      <td>0.092554</td>\n",
              "      <td>0.249033</td>\n",
              "      <td>0.767868</td>\n",
              "      <td>2.512017</td>\n",
              "      <td>4.331376</td>\n",
              "      <td>5.827394</td>\n",
              "      <td>8.309935</td>\n",
              "      <td>14.201820</td>\n",
              "      <td>23.835980</td>\n",
              "      <td>...</td>\n",
              "      <td>57.557779</td>\n",
              "      <td>48.881430</td>\n",
              "      <td>42.044318</td>\n",
              "      <td>43.911297</td>\n",
              "      <td>51.928401</td>\n",
              "      <td>45.173634</td>\n",
              "      <td>29.448614</td>\n",
              "      <td>17.258682</td>\n",
              "      <td>9.133252</td>\n",
              "      <td>2.075829</td>\n",
              "    </tr>\n",
              "    <tr>\n",
              "      <th>min</th>\n",
              "      <td>0.000000</td>\n",
              "      <td>0.000000</td>\n",
              "      <td>0.000000</td>\n",
              "      <td>0.000000</td>\n",
              "      <td>0.000000</td>\n",
              "      <td>0.000000</td>\n",
              "      <td>0.000000</td>\n",
              "      <td>0.000000</td>\n",
              "      <td>0.000000</td>\n",
              "      <td>0.000000</td>\n",
              "      <td>...</td>\n",
              "      <td>0.000000</td>\n",
              "      <td>0.000000</td>\n",
              "      <td>0.000000</td>\n",
              "      <td>0.000000</td>\n",
              "      <td>0.000000</td>\n",
              "      <td>0.000000</td>\n",
              "      <td>0.000000</td>\n",
              "      <td>0.000000</td>\n",
              "      <td>0.000000</td>\n",
              "      <td>0.000000</td>\n",
              "    </tr>\n",
              "    <tr>\n",
              "      <th>25%</th>\n",
              "      <td>2.000000</td>\n",
              "      <td>0.000000</td>\n",
              "      <td>0.000000</td>\n",
              "      <td>0.000000</td>\n",
              "      <td>0.000000</td>\n",
              "      <td>0.000000</td>\n",
              "      <td>0.000000</td>\n",
              "      <td>0.000000</td>\n",
              "      <td>0.000000</td>\n",
              "      <td>0.000000</td>\n",
              "      <td>...</td>\n",
              "      <td>0.000000</td>\n",
              "      <td>0.000000</td>\n",
              "      <td>0.000000</td>\n",
              "      <td>0.000000</td>\n",
              "      <td>0.000000</td>\n",
              "      <td>0.000000</td>\n",
              "      <td>0.000000</td>\n",
              "      <td>0.000000</td>\n",
              "      <td>0.000000</td>\n",
              "      <td>0.000000</td>\n",
              "    </tr>\n",
              "    <tr>\n",
              "      <th>50%</th>\n",
              "      <td>4.500000</td>\n",
              "      <td>0.000000</td>\n",
              "      <td>0.000000</td>\n",
              "      <td>0.000000</td>\n",
              "      <td>0.000000</td>\n",
              "      <td>0.000000</td>\n",
              "      <td>0.000000</td>\n",
              "      <td>0.000000</td>\n",
              "      <td>0.000000</td>\n",
              "      <td>0.000000</td>\n",
              "      <td>...</td>\n",
              "      <td>0.000000</td>\n",
              "      <td>0.000000</td>\n",
              "      <td>0.000000</td>\n",
              "      <td>0.000000</td>\n",
              "      <td>0.000000</td>\n",
              "      <td>0.000000</td>\n",
              "      <td>0.000000</td>\n",
              "      <td>0.000000</td>\n",
              "      <td>0.000000</td>\n",
              "      <td>0.000000</td>\n",
              "    </tr>\n",
              "    <tr>\n",
              "      <th>75%</th>\n",
              "      <td>7.000000</td>\n",
              "      <td>0.000000</td>\n",
              "      <td>0.000000</td>\n",
              "      <td>0.000000</td>\n",
              "      <td>0.000000</td>\n",
              "      <td>0.000000</td>\n",
              "      <td>0.000000</td>\n",
              "      <td>0.000000</td>\n",
              "      <td>0.000000</td>\n",
              "      <td>0.000000</td>\n",
              "      <td>...</td>\n",
              "      <td>57.000000</td>\n",
              "      <td>8.000000</td>\n",
              "      <td>0.000000</td>\n",
              "      <td>0.000000</td>\n",
              "      <td>0.000000</td>\n",
              "      <td>0.000000</td>\n",
              "      <td>0.000000</td>\n",
              "      <td>0.000000</td>\n",
              "      <td>0.000000</td>\n",
              "      <td>0.000000</td>\n",
              "    </tr>\n",
              "    <tr>\n",
              "      <th>max</th>\n",
              "      <td>9.000000</td>\n",
              "      <td>16.000000</td>\n",
              "      <td>36.000000</td>\n",
              "      <td>119.000000</td>\n",
              "      <td>164.000000</td>\n",
              "      <td>224.000000</td>\n",
              "      <td>230.000000</td>\n",
              "      <td>221.000000</td>\n",
              "      <td>221.000000</td>\n",
              "      <td>254.000000</td>\n",
              "      <td>...</td>\n",
              "      <td>255.000000</td>\n",
              "      <td>255.000000</td>\n",
              "      <td>255.000000</td>\n",
              "      <td>255.000000</td>\n",
              "      <td>255.000000</td>\n",
              "      <td>255.000000</td>\n",
              "      <td>255.000000</td>\n",
              "      <td>255.000000</td>\n",
              "      <td>255.000000</td>\n",
              "      <td>170.000000</td>\n",
              "    </tr>\n",
              "  </tbody>\n",
              "</table>\n",
              "<p>8 rows × 785 columns</p>\n",
              "</div>"
            ],
            "text/plain": [
              "              label           1x1           1x2           1x3           1x4  \\\n",
              "count  60000.000000  60000.000000  60000.000000  60000.000000  60000.000000   \n",
              "mean       4.500000      0.000800      0.005783      0.030083      0.103800   \n",
              "std        2.872305      0.092554      0.249033      0.767868      2.512017   \n",
              "min        0.000000      0.000000      0.000000      0.000000      0.000000   \n",
              "25%        2.000000      0.000000      0.000000      0.000000      0.000000   \n",
              "50%        4.500000      0.000000      0.000000      0.000000      0.000000   \n",
              "75%        7.000000      0.000000      0.000000      0.000000      0.000000   \n",
              "max        9.000000     16.000000     36.000000    119.000000    164.000000   \n",
              "\n",
              "                1x5           1x6           1x7           1x8           1x9  \\\n",
              "count  60000.000000  60000.000000  60000.000000  60000.000000  60000.000000   \n",
              "mean       0.249683      0.414717      0.821667      2.224733      5.698667   \n",
              "std        4.331376      5.827394      8.309935     14.201820     23.835980   \n",
              "min        0.000000      0.000000      0.000000      0.000000      0.000000   \n",
              "25%        0.000000      0.000000      0.000000      0.000000      0.000000   \n",
              "50%        0.000000      0.000000      0.000000      0.000000      0.000000   \n",
              "75%        0.000000      0.000000      0.000000      0.000000      0.000000   \n",
              "max      224.000000    230.000000    221.000000    221.000000    254.000000   \n",
              "\n",
              "       ...         28x19         28x20         28x21         28x22  \\\n",
              "count  ...  60000.000000  60000.000000  60000.000000  60000.000000   \n",
              "mean   ...     34.564367     23.208633     16.576250     17.831967   \n",
              "std    ...     57.557779     48.881430     42.044318     43.911297   \n",
              "min    ...      0.000000      0.000000      0.000000      0.000000   \n",
              "25%    ...      0.000000      0.000000      0.000000      0.000000   \n",
              "50%    ...      0.000000      0.000000      0.000000      0.000000   \n",
              "75%    ...     57.000000      8.000000      0.000000      0.000000   \n",
              "max    ...    255.000000    255.000000    255.000000    255.000000   \n",
              "\n",
              "              28x23         28x24         28x25         28x26         28x27  \\\n",
              "count  60000.000000  60000.000000  60000.000000  60000.000000  60000.000000   \n",
              "mean      22.918850     17.916900      8.485717      2.706333      0.819000   \n",
              "std       51.928401     45.173634     29.448614     17.258682      9.133252   \n",
              "min        0.000000      0.000000      0.000000      0.000000      0.000000   \n",
              "25%        0.000000      0.000000      0.000000      0.000000      0.000000   \n",
              "50%        0.000000      0.000000      0.000000      0.000000      0.000000   \n",
              "75%        0.000000      0.000000      0.000000      0.000000      0.000000   \n",
              "max      255.000000    255.000000    255.000000    255.000000    255.000000   \n",
              "\n",
              "              28x28  \n",
              "count  60000.000000  \n",
              "mean       0.070883  \n",
              "std        2.075829  \n",
              "min        0.000000  \n",
              "25%        0.000000  \n",
              "50%        0.000000  \n",
              "75%        0.000000  \n",
              "max      170.000000  \n",
              "\n",
              "[8 rows x 785 columns]"
            ]
          },
          "execution_count": 6,
          "metadata": {},
          "output_type": "execute_result"
        }
      ],
      "source": [
        "train_df.describe()"
      ]
    },
    {
      "cell_type": "code",
      "execution_count": null,
      "id": "97495084-5d18-4a5e-aa4f-9752074bc264",
      "metadata": {
        "id": "97495084-5d18-4a5e-aa4f-9752074bc264",
        "outputId": "997740e2-123a-43c5-c554-1e4592c72393"
      },
      "outputs": [
        {
          "data": {
            "image/png": "[encoded data removed]",
            "text/plain": [
              "<Figure size 1000x500 with 1 Axes>"
            ]
          },
          "metadata": {},
          "output_type": "display_data"
        }
      ],
      "source": [
        "plt.figure(figsize=(10, 5))\n",
        "sns.countplot(\n",
        "    x=train_df['label'],  # Inline mapping from numeric labels to class names\n",
        "    hue=train_df['label'],  # Set hue to the same as x to avoid the warning\n",
        "    palette='pastel',\n",
        "    legend=False\n",
        ")\n",
        "plt.title(\"Distribution of Labels in Training Data\")\n",
        "plt.xlabel(\"Class Name\")\n",
        "plt.ylabel(\"Count\")\n",
        "plt.xticks(rotation=45)  # Rotate x-axis labels for better readability\n",
        "\n",
        "# Display the plot\n",
        "plt.show()"
      ]
    },
    {
      "cell_type": "code",
      "execution_count": 5,
      "id": "e26d17dc-27b5-4447-983f-6da2fe0c928b",
      "metadata": {
        "id": "e26d17dc-27b5-4447-983f-6da2fe0c928b"
      },
      "outputs": [],
      "source": [
        "train_transform = transforms.Compose([\n",
        "    transforms.Resize((128, 128)),\n",
        "    transforms.RandomHorizontalFlip(),\n",
        "    transforms.RandomRotation(15),\n",
        "    transforms.ToTensor(),\n",
        "])\n",
        "\n",
        "test_transform = transforms.Compose([\n",
        "    transforms.Resize((128, 128)),\n",
        "    transforms.ToTensor(),\n",
        "    transforms.Normalize((0.5, 0.5, 0.5), (0.5, 0.5, 0.5))\n",
        "])"
      ]
    },
    {
      "cell_type": "code",
      "execution_count": 6,
      "id": "a91a7d29-05f4-43fe-ad4c-30cd54888fe9",
      "metadata": {
        "id": "a91a7d29-05f4-43fe-ad4c-30cd54888fe9"
      },
      "outputs": [],
      "source": [
        "train_dataset = FashionMNIST(root='./data', train=True, download=True,transform =train_transform)\n",
        "test_dataset = FashionMNIST(root='./data', train=False, download=True,transform =train_transform)\n"
      ]
    },
    {
      "cell_type": "code",
      "execution_count": null,
      "id": "27dfd2cc-1d38-49bf-a60d-5795b530d77d",
      "metadata": {
        "id": "27dfd2cc-1d38-49bf-a60d-5795b530d77d",
        "outputId": "1e463cea-cda1-4347-ec12-d6d2a3a865d4"
      },
      "outputs": [
        {
          "data": {
            "image/png": "[encoded data removed]",
            "text/plain": [
              "<Figure size 800x800 with 9 Axes>"
            ]
          },
          "metadata": {},
          "output_type": "display_data"
        }
      ],
      "source": [
        "\n",
        "figure = plt.figure(figsize=(8, 8))\n",
        "cols, rows = 3, 3\n",
        "for i in range(1, cols * rows + 1):\n",
        "    sample_idx = torch.randint(len(train_dataset), size=(1,)).item()\n",
        "    img, label = train_dataset[sample_idx]\n",
        "    figure.add_subplot(rows, cols, i)\n",
        "    plt.title(idx_to_class[label])\n",
        "    plt.axis(\"off\")\n",
        "    plt.imshow(img.squeeze(), cmap=\"gray\")\n",
        "plt.show()"
      ]
    },
    {
      "cell_type": "code",
      "execution_count": 9,
      "id": "2d6f1bef-2182-40e7-849c-9984015f394f",
      "metadata": {
        "id": "2d6f1bef-2182-40e7-849c-9984015f394f"
      },
      "outputs": [],
      "source": [
        "train_dataloader = DataLoader(train_dataset, batch_size=64, shuffle=True)\n",
        "test_dataloader = DataLoader(test_dataset, batch_size=64, shuffle=True)\n"
      ]
    },
    {
      "cell_type": "code",
      "execution_count": null,
      "id": "f792c20e-25aa-4ac8-a013-044e82948982",
      "metadata": {
        "id": "f792c20e-25aa-4ac8-a013-044e82948982",
        "outputId": "94ae0d0d-936c-4668-ea1d-549143ffac31"
      },
      "outputs": [
        {
          "name": "stdout",
          "output_type": "stream",
          "text": [
            "Feature batch shape: torch.Size([64, 1, 28, 28])\n",
            "Labels batch shape: torch.Size([64])\n"
          ]
        },
        {
          "data": {
            "image/png": "[encoded data removed]",
            "text/plain": [
              "<Figure size 640x480 with 1 Axes>"
            ]
          },
          "metadata": {},
          "output_type": "display_data"
        },
        {
          "name": "stdout",
          "output_type": "stream",
          "text": [
            "Label: 0\n"
          ]
        }
      ],
      "source": [
        "train_features, train_labels = next(iter(train_dataloader))\n",
        "print(f\"Feature batch shape: {train_features.size()}\")\n",
        "print(f\"Labels batch shape: {train_labels.size()}\")\n",
        "img = train_features[0].squeeze()\n",
        "label = train_labels[0]\n",
        "plt.imshow(img, cmap=\"gray\")\n",
        "plt.show()\n",
        "print(f\"Label: {label}\")"
      ]
    },
    {
      "cell_type": "code",
      "execution_count": null,
      "id": "e26e880e-805f-4385-bb5d-a74cbcfc9826",
      "metadata": {
        "id": "e26e880e-805f-4385-bb5d-a74cbcfc9826",
        "outputId": "b3dbc25e-8045-475b-850e-46782fe4912f"
      },
      "outputs": [
        {
          "name": "stdout",
          "output_type": "stream",
          "text": [
            "Shape du batch: torch.Size([64, 1, 128, 128])\n"
          ]
        },
        {
          "data": {
            "image/png": "[encoded data removed]",
            "text/plain": [
              "<Figure size 640x480 with 1 Axes>"
            ]
          },
          "metadata": {},
          "output_type": "display_data"
        }
      ],
      "source": [
        "import matplotlib.pyplot as plt\n",
        "import torchvision\n",
        "\n",
        "images, labels = next(iter(train_dataloader))\n",
        "print(f\"Shape du batch: {images.shape}\")\n",
        "\n",
        "img = images[0]\n",
        "img = img.permute(1, 2, 0)\n",
        "\n",
        "img = img * 0.5 + 0.5   # inverse de Normalize((0.5,0.5,0.5), (0.5,0.5,0.5))\n",
        "\n",
        "plt.imshow(img)\n",
        "label=labels[0].item()\n",
        "plt.title(f\"Label: {idx_to_class[label]}\")\n",
        "plt.axis(\"off\")\n",
        "plt.show()\n"
      ]
    },
    {
      "cell_type": "code",
      "execution_count": null,
      "id": "22884103-ad16-4370-9c6d-66949f605ec2",
      "metadata": {
        "id": "22884103-ad16-4370-9c6d-66949f605ec2"
      },
      "outputs": [],
      "source": [
        "###CNN"
      ]
    },
    {
      "cell_type": "code",
      "execution_count": 7,
      "id": "1d8b10b2-9bcc-4c2f-9bcd-92668c9ce8de",
      "metadata": {
        "id": "1d8b10b2-9bcc-4c2f-9bcd-92668c9ce8de"
      },
      "outputs": [],
      "source": [
        "class CNN(nn.Module):\n",
        "\n",
        "   def __init__(self,num_classes=10):\n",
        "      super().__init__()\n",
        "      self.conv1 = nn.Conv2d(in_channels=1, out_channels=3, kernel_size=3) #taille devient 3,126,126 après maxpool, 3,63,63\n",
        "      self.conv2 = nn.Conv2d(in_channels=3, out_channels=16, kernel_size=3)#16*61*61 puis 16*30*30\n",
        "      self.conv3 = nn.Conv2d(in_channels=16, out_channels=32, kernel_size=3)#32*28*28 puis 32*14*14\n",
        "      self.maxpool = nn.MaxPool2d(2,2)\n",
        "      self.dropout = nn.Dropout(p=0.3)\n",
        "      self.Linear1= nn.Linear(32 * 14 * 14,128)\n",
        "      self.Linear2= nn.Linear(128,num_classes)\n",
        "      self.bn1 = nn.BatchNorm2d(3)\n",
        "      self.bn2 = nn.BatchNorm2d(16)\n",
        "      self.bn3 = nn.BatchNorm2d(32)\n",
        "\n",
        "\n",
        "   def forward(self, x):\n",
        "        x=self.maxpool(F.relu(self.bn1(self.conv1(x))))\n",
        "        x=self.maxpool(F.relu(self.bn2(self.conv2(x))))\n",
        "        x=self.maxpool(F.relu(self.bn3(self.conv3(x))))\n",
        "        x = x.view(x.size(0), -1)\n",
        "        x=F.relu(self.Linear1(x))\n",
        "        x=self.dropout(x)\n",
        "        y=self.Linear2(x)\n",
        "        return y"
      ]
    },
    {
      "cell_type": "code",
      "execution_count": 10,
      "id": "8b3cb8c3-5ea6-4f31-a557-cfcfbff8e9b5",
      "metadata": {
        "colab": {
          "base_uri": "https://localhost:8080/"
        },
        "id": "8b3cb8c3-5ea6-4f31-a557-cfcfbff8e9b5",
        "outputId": "5504fd01-aca9-4ee7-ea58-66fd518b7644"
      },
      "outputs": [
        {
          "output_type": "stream",
          "name": "stdout",
          "text": [
            "Epoch 1, Loss: 0.5423\n",
            "Epoch 2, Loss: 0.3950\n",
            "Epoch 3, Loss: 0.3552\n",
            "Epoch 4, Loss: 0.3289\n",
            "Epoch 5, Loss: 0.3084\n"
          ]
        }
      ],
      "source": [
        "device = torch.device(\"cuda\" if torch.cuda.is_available() else \"cpu\")\n",
        "model = CNN().to(device)\n",
        "optim = torch.optim.Adam(model.parameters(),lr=0.001)\n",
        "criterion = nn.CrossEntropyLoss()\n",
        "for epoch in range(5):\n",
        "  model.train()\n",
        "  running_loss = 0.0\n",
        "  for image,label in train_dataloader:\n",
        "    image, label = image.to(device), label.to(device)\n",
        "    optim.zero_grad()\n",
        "    outputs = model(image)\n",
        "    loss=criterion(outputs,label)\n",
        "    running_loss+=loss\n",
        "    loss.backward()\n",
        "    optim.step()\n",
        "\n",
        "  print(f\"Epoch {epoch+1}, Loss: {running_loss/len(train_dataloader):.4f}\")"
      ]
    },
    {
      "cell_type": "code",
      "source": [
        "from sklearn.metrics import classification_report\n"
      ],
      "metadata": {
        "id": "4tnMr7RLHVgL"
      },
      "id": "4tnMr7RLHVgL",
      "execution_count": 11,
      "outputs": []
    },
    {
      "cell_type": "code",
      "source": [
        "model.eval()\n",
        "y_true, y_pred = [], []\n",
        "with torch.no_grad():\n",
        "  for image,label in test_dataloader:\n",
        "    image, label = image.to(device), label.to(device)\n",
        "    y_p = model(image)\n",
        "    _, preds = torch.max(y_p, 1)\n",
        "    y_pred.extend(preds.cpu().numpy())\n",
        "    y_true.extend(label.cpu().numpy())\n",
        "\n",
        "  print(classification_report(y_pred,y_true))"
      ],
      "metadata": {
        "colab": {
          "base_uri": "https://localhost:8080/"
        },
        "id": "yPqu1Oo6Gxat",
        "outputId": "4b7e8bae-2990-4b7a-b592-0a54f841906d"
      },
      "id": "yPqu1Oo6Gxat",
      "execution_count": 14,
      "outputs": [
        {
          "output_type": "stream",
          "name": "stdout",
          "text": [
            "              precision    recall  f1-score   support\n",
            "\n",
            "           0       0.85      0.84      0.85      1006\n",
            "           1       0.96      1.00      0.98       969\n",
            "           2       0.83      0.85      0.84       982\n",
            "           3       0.90      0.90      0.90      1006\n",
            "           4       0.84      0.83      0.84      1006\n",
            "           5       0.97      0.98      0.98       998\n",
            "           6       0.71      0.70      0.71      1017\n",
            "           7       0.97      0.93      0.95      1039\n",
            "           8       0.98      0.97      0.98      1008\n",
            "           9       0.94      0.97      0.96       969\n",
            "\n",
            "    accuracy                           0.90     10000\n",
            "   macro avg       0.90      0.90      0.90     10000\n",
            "weighted avg       0.90      0.90      0.90     10000\n",
            "\n"
          ]
        }
      ]
    },
    {
      "cell_type": "code",
      "source": [
        "import torchvision.models as models"
      ],
      "metadata": {
        "id": "u7BZc5weHqnN"
      },
      "id": "u7BZc5weHqnN",
      "execution_count": 16,
      "outputs": []
    },
    {
      "cell_type": "code",
      "source": [
        "model = models.resnet18(pretrained=True)"
      ],
      "metadata": {
        "colab": {
          "base_uri": "https://localhost:8080/"
        },
        "id": "-Te_i5pcHfFW",
        "outputId": "a3bc26d3-9bfa-474b-edb0-5390cd959ca1"
      },
      "id": "-Te_i5pcHfFW",
      "execution_count": 17,
      "outputs": [
        {
          "output_type": "stream",
          "name": "stderr",
          "text": [
            "/usr/local/lib/python3.12/dist-packages/torchvision/models/_utils.py:208: UserWarning: The parameter 'pretrained' is deprecated since 0.13 and may be removed in the future, please use 'weights' instead.\n",
            "  warnings.warn(\n",
            "/usr/local/lib/python3.12/dist-packages/torchvision/models/_utils.py:223: UserWarning: Arguments other than a weight enum or `None` for 'weights' are deprecated since 0.13 and may be removed in the future. The current behavior is equivalent to passing `weights=ResNet18_Weights.IMAGENET1K_V1`. You can also use `weights=ResNet18_Weights.DEFAULT` to get the most up-to-date weights.\n",
            "  warnings.warn(msg)\n"
          ]
        },
        {
          "output_type": "stream",
          "name": "stdout",
          "text": [
            "Downloading: \"https://download.pytorch.org/models/resnet18-f37072fd.pth\" to /root/.cache/torch/hub/checkpoints/resnet18-f37072fd.pth\n"
          ]
        },
        {
          "output_type": "stream",
          "name": "stderr",
          "text": [
            "100%|██████████| 44.7M/44.7M [00:00<00:00, 185MB/s]\n"
          ]
        }
      ]
    },
    {
      "cell_type": "code",
      "source": [
        "for param in model.parameters():\n",
        "  param.requieres_grad=False"
      ],
      "metadata": {
        "id": "317Q58RlHsQy"
      },
      "id": "317Q58RlHsQy",
      "execution_count": 18,
      "outputs": []
    },
    {
      "cell_type": "code",
      "source": [
        "num_ftrs = model.fc.in_features\n",
        "model.fc = nn.Linear(num_ftrs, 10)"
      ],
      "metadata": {
        "id": "NphrgUYfHzye"
      },
      "id": "NphrgUYfHzye",
      "execution_count": 19,
      "outputs": []
    },
    {
      "cell_type": "code",
      "source": [],
      "metadata": {
        "id": "T7aWbkUPI_Wg"
      },
      "id": "T7aWbkUPI_Wg",
      "execution_count": null,
      "outputs": []
    },
    {
      "cell_type": "code",
      "source": [
        "transform = transforms.Compose([\n",
        "    transforms.Resize(224),           # Redimensionner à 224x224\n",
        "    transforms.Grayscale(num_output_channels=3),  # Convertir 1 canal → 3 canaux\n",
        "    transforms.ToTensor(),\n",
        "    transforms.Normalize(mean=[0.5,0.5,0.5], std=[0.5,0.5,0.5])\n",
        "])"
      ],
      "metadata": {
        "id": "1UmDysjPIxlp"
      },
      "id": "1UmDysjPIxlp",
      "execution_count": 22,
      "outputs": []
    },
    {
      "cell_type": "code",
      "source": [
        "train_dataset = FashionMNIST(root='./data', train=True, download=True,transform =transform)\n",
        "test_dataset = FashionMNIST(root='./data', train=False, download=True,transform =transform)"
      ],
      "metadata": {
        "id": "gKs4x-TbJAFs"
      },
      "id": "gKs4x-TbJAFs",
      "execution_count": 24,
      "outputs": []
    },
    {
      "cell_type": "code",
      "source": [
        "train_dataloader = DataLoader(train_dataset, batch_size=64, shuffle=True)\n",
        "test_dataloader = DataLoader(test_dataset, batch_size=64, shuffle=True)\n"
      ],
      "metadata": {
        "id": "Ly8SENdfI2uV"
      },
      "id": "Ly8SENdfI2uV",
      "execution_count": 25,
      "outputs": []
    },
    {
      "cell_type": "code",
      "source": [
        "device = torch.device(\"cuda\" if torch.cuda.is_available() else \"cpu\")\n",
        "model = model.to(device)\n",
        "optim = torch.optim.Adam(model.parameters(),lr=0.001)\n",
        "criterion = nn.CrossEntropyLoss()\n",
        "for epoch in range(5):\n",
        "  model.train()\n",
        "  running_loss = 0.0\n",
        "  for image,label in train_dataloader:\n",
        "    image, label = image.to(device), label.to(device)\n",
        "    optim.zero_grad()\n",
        "    outputs = model(image)\n",
        "    loss=criterion(outputs,label)\n",
        "    running_loss+=loss\n",
        "    loss.backward()\n",
        "    optim.step()\n",
        "\n",
        "  print(f\"Epoch {epoch+1}, Loss: {running_loss/len(train_dataloader):.4f}\")"
      ],
      "metadata": {
        "colab": {
          "base_uri": "https://localhost:8080/"
        },
        "id": "Mip-joF7H7_M",
        "outputId": "55391a44-c8b9-49f2-9013-67f071e6d194"
      },
      "id": "Mip-joF7H7_M",
      "execution_count": 26,
      "outputs": [
        {
          "output_type": "stream",
          "name": "stdout",
          "text": [
            "Epoch 1, Loss: 0.3020\n",
            "Epoch 2, Loss: 0.2041\n",
            "Epoch 3, Loss: 0.1675\n",
            "Epoch 4, Loss: 0.1448\n",
            "Epoch 5, Loss: 0.1155\n"
          ]
        }
      ]
    },
    {
      "cell_type": "code",
      "source": [
        "model.eval()\n",
        "y_true, y_pred = [], []\n",
        "with torch.no_grad():\n",
        "  for image,label in test_dataloader:\n",
        "    image, label = image.to(device), label.to(device)\n",
        "    y_p = model(image)\n",
        "    _, preds = torch.max(y_p, 1)\n",
        "    y_pred.extend(preds.cpu().numpy())\n",
        "    y_true.extend(label.cpu().numpy())\n",
        "\n",
        "  print(classification_report(y_pred,y_true))"
      ],
      "metadata": {
        "colab": {
          "base_uri": "https://localhost:8080/"
        },
        "id": "wioEqfG5Mt6l",
        "outputId": "802197f4-577c-400d-91eb-96d768d64d39"
      },
      "id": "wioEqfG5Mt6l",
      "execution_count": 27,
      "outputs": [
        {
          "output_type": "stream",
          "name": "stdout",
          "text": [
            "              precision    recall  f1-score   support\n",
            "\n",
            "           0       0.94      0.83      0.88      1133\n",
            "           1       0.98      1.00      0.99       983\n",
            "           2       0.89      0.93      0.91       953\n",
            "           3       0.95      0.91      0.93      1045\n",
            "           4       0.92      0.91      0.91      1016\n",
            "           5       0.99      0.99      0.99      1001\n",
            "           6       0.76      0.87      0.81       872\n",
            "           7       0.99      0.96      0.98      1025\n",
            "           8       0.99      0.99      0.99       997\n",
            "           9       0.96      0.99      0.97       975\n",
            "\n",
            "    accuracy                           0.94     10000\n",
            "   macro avg       0.94      0.94      0.94     10000\n",
            "weighted avg       0.94      0.94      0.94     10000\n",
            "\n"
          ]
        }
      ]
    }
  ],
  "metadata": {
    "kernelspec": {
      "display_name": "Python 3",
      "name": "python3"
    },
    "language_info": {
      "codemirror_mode": {
        "name": "ipython",
        "version": 3
      },
      "file_extension": ".py",
      "mimetype": "text/x-python",
      "name": "python",
      "nbconvert_exporter": "python",
      "pygments_lexer": "ipython3",
      "version": "3.13.5"
    },
    "colab": {
      "provenance": [],
      "gpuType": "T4"
    },
    "accelerator": "GPU"
  },
  "nbformat": 4,
  "nbformat_minor": 5
}